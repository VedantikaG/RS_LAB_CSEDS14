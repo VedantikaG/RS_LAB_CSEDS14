{
  "nbformat": 4,
  "nbformat_minor": 0,
  "metadata": {
    "colab": {
      "provenance": []
    },
    "kernelspec": {
      "name": "python3",
      "display_name": "Python 3"
    },
    "language_info": {
      "name": "python"
    }
  },
  "cells": [
    {
      "cell_type": "code",
      "execution_count": 9,
      "metadata": {
        "colab": {
          "base_uri": "https://localhost:8080/",
          "height": 0
        },
        "id": "06YevasUM8o3",
        "outputId": "e99fc36d-8cd8-4297-8a68-f1eb4405c4f9"
      },
      "outputs": [
        {
          "output_type": "stream",
          "name": "stdout",
          "text": [
            "Matrix Multiplication Result:\n",
            "[[19 22]\n",
            " [43 50]]\n",
            "\n",
            "Transposed Matrix:\n",
            "[[5 7]\n",
            " [6 8]]\n",
            "\n",
            "Inverse Matrix:\n",
            "[[-4.   3. ]\n",
            " [ 3.5 -2.5]]\n"
          ]
        }
      ],
      "source": [
        "import numpy as np\n",
        "\n",
        "# Define matrices and vectors\n",
        "m1 = np.array([[1, 2], [3, 4]])  # Replace with your matrix\n",
        "m = np.array([[5, 6], [7, 8]])    # Replace with your matrix\n",
        "\n",
        "# Matrix multiplication using np.matmul\n",
        "result_multiply = np.matmul(m1, m)\n",
        "print(\"Matrix Multiplication Result:\")\n",
        "print(result_multiply)\n",
        "\n",
        "# Transposition using np.transpose\n",
        "result_transpose = np.transpose(m)\n",
        "print(\"\\nTransposed Matrix:\")\n",
        "print(result_transpose)\n",
        "\n",
        "# Matrix inversion using np.linalg.inv\n",
        "result_inverse = np.linalg.inv(m)\n",
        "print(\"\\nInverse Matrix:\")\n",
        "print(result_inverse)"
      ]
    }
  ]
}